{
  "cells": [
    {
      "cell_type": "markdown",
      "metadata": {
        "id": "view-in-github",
        "colab_type": "text"
      },
      "source": [
        "<a href=\"https://colab.research.google.com/github/jjmorenoc/Coursera---Cloud-Computing---Week2-Lab/blob/main/W2_Lab_Assignment.ipynb\" target=\"_parent\"><img src=\"https://colab.research.google.com/assets/colab-badge.svg\" alt=\"Open In Colab\"/></a>"
      ]
    },
    {
      "cell_type": "markdown",
      "metadata": {
        "id": "-qWUr7Zol5rU"
      },
      "source": [
        "# Week 2 - Lab\n",
        "## Create a Jupyter Notebook documentation\n",
        "\n",
        "## Print hello `python` code"
      ]
    },
    {
      "cell_type": "code",
      "execution_count": null,
      "metadata": {
        "scrolled": true,
        "id": "iwLCtGtal5rX",
        "outputId": "1e7229d0-bd7a-4ec5-be75-139ddb957849"
      },
      "outputs": [
        {
          "name": "stdout",
          "output_type": "stream",
          "text": [
            "hello world\n"
          ]
        }
      ],
      "source": [
        "print(\"hello world\")"
      ]
    },
    {
      "cell_type": "markdown",
      "metadata": {
        "id": "5vxLqA7bl5rZ"
      },
      "source": [
        "# Markdown features practice\n",
        "## text styles\n",
        "- Normal text.\n",
        "- **Bold Text** \n",
        "- *Italic text* \n",
        "- ~~Strikethrough text~~\n",
        "\n",
        "## lists\n",
        "### simple lists\n",
        "* Python code for print hello world.\n",
        "* Some features practice\n",
        "* Summary \n",
        "\n",
        "\n",
        "### lists with check boxes and nested elements with links\n",
        "- [x] Python code for print hello world\n",
        "- Using links\n",
        "    - [ ] An explicit link: https://www.earthdatascience.org/courses/intro-to-earth-data-science/file-formats/use-text-files/format-text-with-markdown-jupyter-notebook/\n",
        "    - [ ] The same link above, please use <a href=\"https://www.earthdatascience.org/courses/intro-to-earth-data-science/file-formats/use-text-files/format-text-with-markdown-jupyter-notebook/\" target=\"_blank\">this link</a>.\n",
        "\n",
        "## algebra formulas\n",
        "* Superscript:  $a^{[x]}$,$b^2$. \n",
        "* Lowerscript: $a_2$, $b_{[x]}$.\n",
        "* A simple formula: $e^{i\\pi} + 1 = 0$\n",
        "* A complex formula: \n",
        "\\begin{equation}\n",
        "e^x=\\sum_{i=0}^\\infty \\frac{1}{i!}x^i\n",
        "\\end{equation}\n",
        "* A complex matrix:\n",
        "$$ WX + b = \\begin{bmatrix}\n",
        "    (ja + kd + lg) + s  & (jb + ke + lh) + s  & (jc + kf + li)+ s\\\\\n",
        "    (ma + nd + og) + t & (mb + ne + oh) + t & (mc + nf + oi) + t\\\\\n",
        "    (pa + qd + rg) + u & (pb + qe + rh) + u & (pc + qf + ri)+ u\n",
        "\\end{bmatrix}\\  $$\n",
        "\n",
        "\n",
        "## tables\n",
        "| First column | Second column | Third column |\n",
        "|-------|--------|-------|\n",
        "|   Value 1  | Value 2| Value 3 |\n",
        "|   Value 4  | Value 5| Value 6 |\n",
        "|   Value 7  | Value 8| Value 9 |\n",
        "\n",
        "## render images\n",
        "\n",
        "### Python logo (from URL)\n",
        "![Python logo.](http://es.schoolofdata.org/files/2017/07/python-logo-master-v3-TM-flattened.png)\n",
        "\n",
        "### attach an image file\n",
        "![Jupyter logo.jpg](data:image/jpeg;base64,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)\n",
        "\n",
        "## emojis\n",
        "A happy face in windows. 😊"
      ]
    },
    {
      "cell_type": "markdown",
      "metadata": {
        "id": "FMI16_aQl5ra"
      },
      "source": [
        "# My github\n",
        "The lab published in my github: https://github.com/jjmorenoc/Coursera---Cloud-Computing---Week2-Lab"
      ]
    },
    {
      "cell_type": "code",
      "execution_count": null,
      "metadata": {
        "id": "MavZxk4ol5ra"
      },
      "outputs": [],
      "source": [
        ""
      ]
    }
  ],
  "metadata": {
    "kernelspec": {
      "display_name": "Python 3",
      "language": "python",
      "name": "python3"
    },
    "language_info": {
      "codemirror_mode": {
        "name": "ipython",
        "version": 3
      },
      "file_extension": ".py",
      "mimetype": "text/x-python",
      "name": "python",
      "nbconvert_exporter": "python",
      "pygments_lexer": "ipython3",
      "version": "3.8.3"
    },
    "colab": {
      "name": "W2 Lab - Assignment.ipynb",
      "provenance": [],
      "collapsed_sections": [],
      "include_colab_link": true
    }
  },
  "nbformat": 4,
  "nbformat_minor": 0
}